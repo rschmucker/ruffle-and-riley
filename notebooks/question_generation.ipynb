{
 "cells": [
  {
   "cell_type": "markdown",
   "metadata": {},
   "source": [
    "## Automated tutoring script induction\n",
    "\n",
    "This notebook implements a workflow for automated question generation and tutoring script assembly.\n",
    "\n",
    "The lesson text example was adapted from Chapter 4.3 of: Clark, M.A., Douglas, M., Choi, J.: Biology 2e. OpenStax (2018)"
   ]
  },
  {
   "cell_type": "code",
   "execution_count": null,
   "metadata": {},
   "outputs": [],
   "source": [
    "# imports\n",
    "import re\n",
    "from langchain.chat_models import AzureChatOpenAI\n",
    "from langchain.prompts import ChatPromptTemplate"
   ]
  },
  {
   "cell_type": "code",
   "execution_count": null,
   "metadata": {},
   "outputs": [],
   "source": [
    "# load environment variables and prepare chat API\n",
    "env_vars = {}\n",
    "with open(\"../src/env.js\", 'r') as file:\n",
    "    for line in file:\n",
    "        match = re.match(r\"export const (\\w+) = \\\"(.+?)\\\";\", line.strip())\n",
    "        if match:\n",
    "            var_name, var_value = match.groups()\n",
    "            env_vars[var_name] = var_value\n",
    "\n",
    "assert env_vars[\"AZURE_API_KEY\"] != \"-\", \"Add your API credentials to enj.js\"\n",
    "\n",
    "# use temperature = 0.0 for deterministic model behavior\n",
    "chat = AzureChatOpenAI(\n",
    "    deployment_name=env_vars[\"AZURE_DEPLOYMENT_ID\"],\n",
    "    openai_api_key=env_vars[\"AZURE_API_KEY\"],\n",
    "    openai_api_base=env_vars[\"AZURE_ENDPOINT\"],\n",
    "    openai_api_version='2023-05-15', temperature=0.0)"
   ]
  },
  {
   "cell_type": "markdown",
   "metadata": {},
   "source": [
    "Add reference lesson text for tutoring script induction here:"
   ]
  },
  {
   "cell_type": "code",
   "execution_count": null,
   "metadata": {},
   "outputs": [],
   "source": [
    "SUBJECT = \"biology\"  # context information for prompt\n",
    "\n",
    "LESSON_TEXT = '''“Form follows function” is a principle that many industries follow. In architecture, this principle implies that buildings should be constructed to support the activities housed within them. For example, a skyscraper should include several elevator banks. A hospital should have an easily accessible emergency room.\n",
    "\n",
    "Our natural world also utilizes the principle of form following function, especially in cell biology. The structure of cell organelles evolved to support their specialized functions. Similar to how organs in your body function, each organelle is a specialized compartment inside the cell with a unique role to perform. For example, in the pancreas there are cells that are responsible for producing digestive enzymes, which are specific types of proteins that help with food digestion. In these pancreas cells, ribosomes - the organelles responsible for protein synthesis - are found in high numbers. This illustrates the principle of form following function: The form (high number of ribosomes) follows the function (protein production). In addition to ribosomes, cells contain many other organelles, each with its distinct function. Throughout this lesson, we'll explore several of these organelles and understand how their specific form supports their function.\n",
    "\n",
    "\n",
    "Ribosomes\n",
    "\n",
    "Ribosomes are the cell organelles responsible for protein synthesis. Inside the cell, ribosomes may group together into clusters (polyribosomes) or individual ribosomes may float freely in the cytoplasm. Ribosomes are large protein and RNA complexes, each consisting of two subunits, one large and one small (Figure 1). Ribosomes receive their “orders” for protein synthesis from the nucleus that starts the process by transcribing the DNA into messenger RNA (mRNA). After transcription, the mRNA exits the nucleus and travels to the ribosomes located in the cytoplasm. The ribosomes then translate the code provided by the sequence of the nitrogenous bases in the mRNA into a specific order of amino acids linked together to form proteins. Amino acids are the building blocks of proteins and are vital for various cellular functions (e.g., digestion).\n",
    "\n",
    "\n",
    "Mitochondria\n",
    "\n",
    "Mitochondria (singular = mitochondrion) are bean-shaped structures each with a double membrane. Mitochondria are often called “powerhouses” of cells because they make adenosine triphosphate (ATP), which is the cell’s main energy-carrying molecule. ATP represents the cell's short-term stored energy. Mitochondria conduct cellular respiration, which is the process that makes ATP using the chemical energy contained in nutrients such as glucose. The cellular respiration process takes in oxygen to break down glucose and outputs ATP plus the side products carbon dioxide (CO2) and water (H2O). In fact, the carbon dioxide that you exhale with every breath comes from the cellular reactions that produce carbon dioxide as a byproduct.\n",
    "\n",
    "In keeping with our theme of form following function, it is important to note that muscle cells have a very high concentration of mitochondria that produce ATP. Your muscle cells need considerable energy to keep your body moving. When your cells don’t get enough oxygen, they make small amounts of ATP and also produce lactic acid.\n",
    "\n",
    "\n",
    "Peroxisomes\n",
    "\n",
    "Peroxisomes are small, round organelles enclosed by single membranes. They carry out oxidation reactions that break down fatty acids and amino acids, which are vital for various cellular functions. Oxidation reactions are also crucial in detoxifying poisons that may enter the body. Notably, many of these oxidation reactions produce hydrogen peroxide (H2O2), a substance that can be damaging to cells. However, these reactions are safely confined inside the peroxisomes by its membrane. Within the peroxisomes, enzymes break down the H2O2 into oxygen and water, mitigating potential damage. In liver cells, peroxisomes are particularly important as they detoxify alcohol. Another significant detoxification reaction carried out by peroxisomes involves the breakdown of environmental toxins like formaldehyde, commonly found in various household products and known for its harmful effects on human health.'''"
   ]
  },
  {
   "cell_type": "markdown",
   "metadata": {},
   "source": [
    "### Question generation"
   ]
  },
  {
   "cell_type": "code",
   "execution_count": null,
   "metadata": {},
   "outputs": [],
   "source": [
    "# question generation prompt\n",
    "comb_rev_quest_gen_string = \"\"\"You are a {subject} professor that prepares review/guiding \\\n",
    "questions to help your students learn a lesson. Write at least 5 free-response questions \\\n",
    "designed to help your students understand the lesson material. Overall, the questions you write \\\n",
    "should promote comprehensive learning and cover all the lesson material. Please try \\\n",
    "to avoid writing questions that overlap in content. The lesson material is provided \\\n",
    "below delimited by triple backticks.\\n Write the questions in the following format:\\n\\\n",
    "Question 1: <Question 1 text> \\n\\\n",
    "... \\n\\\n",
    "Question N: <Question N text> \\n\\n\\\n",
    "Lesson Material:```{content}```\"\"\"\n",
    "comb_rev_quest_template = ChatPromptTemplate.from_template(comb_rev_quest_gen_string)\n",
    "print(comb_rev_quest_gen_string)"
   ]
  },
  {
   "cell_type": "code",
   "execution_count": null,
   "metadata": {},
   "outputs": [],
   "source": [
    "prompt = comb_rev_quest_template.format_messages(content=LESSON_TEXT, subject=SUBJECT)\n",
    "rev_quest = chat(prompt).content\n",
    "REV_QUESTS = [s.split(\": \")[1] for s in rev_quest.split(\"\\n\") if len(s) > 5]\n",
    "REV_QUESTS"
   ]
  },
  {
   "cell_type": "code",
   "execution_count": null,
   "metadata": {},
   "outputs": [],
   "source": [
    "# process information for next prompt\n",
    "COMB_STRING = \"\"\n",
    "for i, q in enumerate(REV_QUESTS):\n",
    "    COMB_STRING += \"Question \" + str(i + 1) + \": \" + q + \"\\n\"\n",
    "print(COMB_STRING)"
   ]
  },
  {
   "cell_type": "markdown",
   "metadata": {},
   "source": [
    "### Solution generation"
   ]
  },
  {
   "cell_type": "code",
   "execution_count": null,
   "metadata": {},
   "outputs": [],
   "source": [
    "# solution generation prompt\n",
    "rev_quest_gen_string = \"\"\"You are a {subject} professor that prepares solutions \\\n",
    "for a range of review/guiding questions designed to help your students learn a lesson. \\\n",
    "The questions and lesson text are provided below delimited by triple backticks. \\\n",
    "The solutions should be focused and explain only the most important information from \n",
    "the lesson material. Do not just copy sentences from the lesson text. Write the \n",
    "solutions in the following format:\\n\\\n",
    "Solution 1: <Question 1 solution text> \\n\\\n",
    "... \\n\\\n",
    "Solution N: <Question N solution text> \\n\\\n",
    "\n",
    "Question List: ```{question}```\\n\\n\\\n",
    "Lesson Material: ```{content}```\n",
    "\"\"\"\n",
    "rev_answer_template = ChatPromptTemplate.from_template(rev_quest_gen_string)\n",
    "print(rev_quest_gen_string)"
   ]
  },
  {
   "cell_type": "code",
   "execution_count": null,
   "metadata": {},
   "outputs": [],
   "source": [
    "prompt = rev_answer_template.format_messages(question=COMB_STRING, content=LESSON_TEXT, subject=SUBJECT)\n",
    "rev_sol = chat(prompt).content\n",
    "SOLUTIONS = [s.split(\": \")[1] for s in rev_sol.split(\"\\n\") if len(s) > 5]\n",
    "SOLUTIONS"
   ]
  },
  {
   "cell_type": "code",
   "execution_count": null,
   "metadata": {},
   "outputs": [],
   "source": [
    "# process information for next prompt\n",
    "QS_STRING = \"\"\n",
    "for i, q in enumerate(REV_QUESTS):\n",
    "    QS_STRING += \"Question \" + str(i + 1) + \": \" + q + \"\\n\"\n",
    "    QS_STRING += \"Solution \" + str(i + 1) + \": \" + SOLUTIONS[i] + \"\\n\"\n",
    "print(QS_STRING)"
   ]
  },
  {
   "cell_type": "markdown",
   "metadata": {},
   "source": [
    "### Expectation generation"
   ]
  },
  {
   "cell_type": "code",
   "execution_count": null,
   "metadata": {},
   "outputs": [],
   "source": [
    "# expectation generation prompt\n",
    "exp_quest_gen_string = \"\"\"You are a {subject} professor that creates lists summarizing \\\n",
    "the key facts contained in the solutions to review/guiding questions \\\n",
    "designed to help your students learn a lesson. \\\n",
    "The questions and solutions are provided below delimited by triple backticks. \\\n",
    "You want to keep the lists brief and focused. \\\n",
    "Write the lists in the following format:\\n\\\n",
    "List 1: <Question 1 fact 1; ...; Question 1 fact m1>\\n\\\n",
    "...\\n\\\n",
    "List N: <Question N fact 1; ...; Question N fact mN>\\n\\\n",
    "\\n\\\n",
    "Questions and Solutions: ```{questions}```\n",
    "\"\"\"\n",
    "exp_answer_template = ChatPromptTemplate.from_template(exp_quest_gen_string)"
   ]
  },
  {
   "cell_type": "code",
   "execution_count": null,
   "metadata": {},
   "outputs": [],
   "source": [
    "prompt = exp_answer_template.format_messages(questions=QS_STRING, subject=SUBJECT)\n",
    "rev_sol = chat(prompt).content\n",
    "print(rev_sol)"
   ]
  },
  {
   "cell_type": "markdown",
   "metadata": {},
   "source": [
    "### Assemble tutoring script"
   ]
  },
  {
   "cell_type": "code",
   "execution_count": null,
   "metadata": {},
   "outputs": [],
   "source": [
    "# script assembly code\n",
    "formated = [s.split(\": \")[1] for s in rev_sol.split(\"\\n\") if len(s) > 5]\n",
    "\n",
    "for i, point in enumerate(formated):\n",
    "    print(\"Topic \" + str(i + 1) + \": \" + REV_QUESTS[i].replace('\"', \"''\"))\n",
    "    for j, fact in enumerate(point.split(\";\")):\n",
    "        fact = fact.replace('\"', \"''\")\n",
    "        fact = fact[min(j, 1):]\n",
    "        print(\"Fact \" + str(i + 1) + \".\" + str(j + 1) + \": \" + fact + \".\")\n",
    "    print(\"\")"
   ]
  },
  {
   "cell_type": "markdown",
   "metadata": {},
   "source": [
    "The final tutoring script is used to configure the student agent. You can add the created content as a new file in src/components/content and create a new agent definition in src/components/open_ai/"
   ]
  }
 ],
 "metadata": {
  "kernelspec": {
   "display_name": "vedu",
   "language": "python",
   "name": "python3"
  },
  "language_info": {
   "codemirror_mode": {
    "name": "ipython",
    "version": 3
   },
   "file_extension": ".py",
   "mimetype": "text/x-python",
   "name": "python",
   "nbconvert_exporter": "python",
   "pygments_lexer": "ipython3",
   "version": "3.11.3"
  },
  "orig_nbformat": 4
 },
 "nbformat": 4,
 "nbformat_minor": 2
}
